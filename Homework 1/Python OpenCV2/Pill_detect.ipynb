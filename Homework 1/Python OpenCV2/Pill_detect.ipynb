{
 "cells": [
  {
   "cell_type": "code",
   "execution_count": 6,
   "source": [
    "#take picture from video stream on pressing escape key\r\n",
    "#pictures are taken with 2 top horizontal light strips and the table light towards the administration door (with blinders closed)\r\n",
    "import cv2\r\n",
    "\r\n",
    "cv2.namedWindow(\"tripod cam\")\r\n",
    "vc = cv2.VideoCapture(1)\r\n",
    "\r\n",
    "if vc.isOpened(): # try to get the first frame\r\n",
    "    rval, frame = vc.read()\r\n",
    "else:\r\n",
    "    rval = False\r\n",
    "\r\n",
    "while rval:\r\n",
    "    cv2.imshow(\"tripod cam\", frame)\r\n",
    "    rval, frame = vc.read()\r\n",
    "    key = cv2.waitKey(20)\r\n",
    "    if key == 27: # exit on ESC\r\n",
    "        break\r\n",
    "\r\n",
    "cv2.imwrite('pill_pic_test.png', frame)\r\n",
    "vc.release()\r\n",
    "cv2.destroyWindow(\"tripod cam\")"
   ],
   "outputs": [],
   "metadata": {}
  },
  {
   "cell_type": "code",
   "execution_count": 1,
   "source": [
    "#live filter application\r\n",
    "\r\n",
    "import cv2\r\n",
    "import numpy as np\r\n",
    "\r\n",
    "# define the list of boundaries\r\n",
    "#we need red white and black\r\n",
    "#https://www.etutorialspoint.com/index.php/329-detect-specific-color-from-image-using-python-opencv\r\n",
    "boundaries = [#BGR\r\n",
    "\t([165, 135, 70], [185, 160, 120]), #blue pills\r\n",
    "]\r\n",
    "\r\n",
    "cv2.namedWindow(\"tripod cam\")\r\n",
    "vc = cv2.VideoCapture(0)\r\n",
    "\r\n",
    "if vc.isOpened(): # try to get the first frame\r\n",
    "    rval, img = vc.read()\r\n",
    "else:\r\n",
    "    rval = False\r\n",
    "\r\n",
    "while rval:\r\n",
    "    rval, img = vc.read()\r\n",
    "    key = cv2.waitKey(20)\r\n",
    "\r\n",
    "    # loop over the boundaries\r\n",
    "    for (lower, upper) in boundaries:\r\n",
    "        # create NumPy arrays from the boundaries\r\n",
    "        lower = np.array(lower, dtype = \"uint8\")\r\n",
    "        upper = np.array(upper, dtype = \"uint8\")\r\n",
    "        # find the colors within the specified boundaries and apply\r\n",
    "        # the mask\r\n",
    "        mask = cv2.inRange(img, lower, upper)\r\n",
    "        output = cv2.bitwise_and(img, img, mask = mask)\r\n",
    "        # show the images\r\n",
    "        cv2.imshow(\"images\", np.hstack([img, output]))\r\n",
    "        key = cv2.waitKey(20)\r\n",
    "\r\n",
    "    if key == 27: # exit on ESC\r\n",
    "        break\r\n",
    "\r\n",
    "vc.release()\r\n",
    "cv2.destroyWindow(\"images\")\r\n",
    "cv2.destroyWindow(\"tripod cam\")"
   ],
   "outputs": [],
   "metadata": {}
  }
 ],
 "metadata": {
  "orig_nbformat": 4,
  "language_info": {
   "name": "python",
   "version": "3.9.7",
   "mimetype": "text/x-python",
   "codemirror_mode": {
    "name": "ipython",
    "version": 3
   },
   "pygments_lexer": "ipython3",
   "nbconvert_exporter": "python",
   "file_extension": ".py"
  },
  "kernelspec": {
   "name": "python3",
   "display_name": "Python 3.9.7 64-bit"
  },
  "interpreter": {
   "hash": "d2f780d3fa0f233da220727534c26375caac5692cb408a3c2164f85e81e52cd5"
  }
 },
 "nbformat": 4,
 "nbformat_minor": 2
}