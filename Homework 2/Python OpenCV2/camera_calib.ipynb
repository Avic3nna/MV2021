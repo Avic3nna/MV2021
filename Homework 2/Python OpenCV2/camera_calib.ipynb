{
 "cells": [
  {
   "cell_type": "code",
   "execution_count": 29,
   "source": [
    "#take picture from video stream on pressing escape key\r\n",
    "#pictures are taken with 2 top horizontal light strips and the table light towards the administration door (with blinders closed)\r\n",
    "import cv2\r\n",
    "\r\n",
    "cv2.namedWindow(\"tripod cam\")\r\n",
    "vc = cv2.VideoCapture(1)\r\n",
    "\r\n",
    "if vc.isOpened(): # try to get the first frame\r\n",
    "    rval, frame = vc.read()\r\n",
    "else:\r\n",
    "    rval = False\r\n",
    "\r\n",
    "while rval:\r\n",
    "    cv2.imshow(\"tripod cam\", frame)\r\n",
    "    rval, frame = vc.read()\r\n",
    "    key = cv2.waitKey(20)\r\n",
    "    if key == 27: # exit on ESC\r\n",
    "        break\r\n",
    "\r\n",
    "cv2.imwrite('Images/Calibration/checker_board.png', frame)\r\n",
    "vc.release()\r\n",
    "cv2.destroyWindow(\"tripod cam\")"
   ],
   "outputs": [],
   "metadata": {}
  },
  {
   "cell_type": "code",
   "execution_count": 37,
   "source": [
    "import numpy as np\r\n",
    "import cv2\r\n",
    "from glob import glob\r\n",
    "# termination criteria\r\n",
    "criteria = (cv2.TERM_CRITERIA_EPS + cv2.TERM_CRITERIA_MAX_ITER, 30, 0.001)\r\n",
    "# prepare object points, like (0,0,0), (1,0,0), (2,0,0) ....,(6,5,0)\r\n",
    "objp = np.zeros((6*9,3), np.float32) #checkerboard 10*7 squares\r\n",
    "objp[:,:2] = np.mgrid[0:6,0:9].T.reshape(-1,2)\r\n",
    "# Arrays to store object points and image points from all the images.\r\n",
    "objpoints = [] # 3d point in real world space\r\n",
    "imgpoints = [] # 2d points in image plane.\r\n",
    "images = glob('G:\\\\My Drive\\\\1. EIT Digital master\\\\Estland\\\\Semester 1\\\\Machine vision\\\\MV2021\\\\Homework 2\\\\Python OpenCV2\\\\Images\\\\Calibration\\\\*.png')\r\n",
    "\r\n",
    "img = cv2.imread(images[0])\r\n",
    "\r\n",
    "for fname in images:\r\n",
    "    img = cv2.imread(fname)\r\n",
    "    gray = cv2.cvtColor(img, cv2.COLOR_BGR2GRAY)\r\n",
    "    # Find the chess board corners\r\n",
    "    ret, corners = cv2.findChessboardCorners(gray, (6,9), None)\r\n",
    "    # If found, add object points, image points (after refining them)\r\n",
    "    if ret == True:\r\n",
    "        objpoints.append(objp)\r\n",
    "        corners2 = cv2.cornerSubPix(gray,corners, (11,11), (-1,-1), criteria)\r\n",
    "        imgpoints.append(corners)\r\n",
    "        # Draw and display the corners\r\n",
    "        cv2.drawChessboardCorners(img, (6,9), corners2, ret)\r\n",
    "        cv2.imshow('img', img)\r\n",
    "        cv2.waitKey(500)\r\n",
    "cv2.destroyAllWindows()\r\n"
   ],
   "outputs": [],
   "metadata": {}
  },
  {
   "cell_type": "code",
   "execution_count": 36,
   "source": [
    "ret, mtx, dist, rvecs, tvecs = cv2.calibrateCamera(objpoints, imgpoints, gray.shape[::-1], None, None)\r\n",
    "\r\n",
    "print(dist)"
   ],
   "outputs": [
    {
     "output_type": "stream",
     "name": "stdout",
     "text": [
      "[[ 7.03748587e-02 -1.77874262e+00  1.34541123e-03  5.38484678e-05\n",
      "   5.98145644e+00]]\n"
     ]
    }
   ],
   "metadata": {}
  },
  {
   "cell_type": "code",
   "execution_count": 34,
   "source": [
    "img = cv2.imread('Images/Calibration/checker_board.png')\r\n",
    "h,  w = img.shape[:2]\r\n",
    "newcameramtx, roi = cv2.getOptimalNewCameraMatrix(mtx, dist, (w,h), 1, (w,h))"
   ],
   "outputs": [],
   "metadata": {}
  },
  {
   "cell_type": "code",
   "execution_count": 35,
   "source": [
    "# undistort\r\n",
    "dst = cv2.undistort(img, mtx, dist, None, newcameramtx)\r\n",
    "# crop the image\r\n",
    "x, y, w, h = roi\r\n",
    "dst = dst[y:y+h, x:x+w]\r\n",
    "cv2.imwrite('checker_board_calibresult.png', dst)"
   ],
   "outputs": [
    {
     "output_type": "execute_result",
     "data": {
      "text/plain": [
       "True"
      ]
     },
     "metadata": {},
     "execution_count": 35
    }
   ],
   "metadata": {}
  }
 ],
 "metadata": {
  "orig_nbformat": 4,
  "language_info": {
   "name": "python",
   "version": "3.9.7",
   "mimetype": "text/x-python",
   "codemirror_mode": {
    "name": "ipython",
    "version": 3
   },
   "pygments_lexer": "ipython3",
   "nbconvert_exporter": "python",
   "file_extension": ".py"
  },
  "kernelspec": {
   "name": "python3",
   "display_name": "Python 3.9.7 64-bit"
  },
  "interpreter": {
   "hash": "d2f780d3fa0f233da220727534c26375caac5692cb408a3c2164f85e81e52cd5"
  }
 },
 "nbformat": 4,
 "nbformat_minor": 2
}