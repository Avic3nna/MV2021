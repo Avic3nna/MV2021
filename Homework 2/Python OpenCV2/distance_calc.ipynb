{
 "cells": [
  {
   "cell_type": "code",
   "execution_count": 172,
   "source": [
    "### Distance calc between points\r\n",
    "\r\n",
    "# Goal : pixel to millimeters\r\n",
    "\r\n",
    "# We have 12 boxes\r\n",
    "# We know where the center of every pill is\r\n",
    "\r\n",
    "\r\n",
    "# 1. Create a grid of predefined means\r\n",
    "# 2. Check which X and Y coordinates of the rectangle\r\n",
    "# surround which mean\r\n",
    "# 3. Take the colour index of the rectangle\r\n",
    "\r\n",
    "# -- Now we know which colour is where\r\n",
    "\r\n",
    "# 4. Compute (and plot) dist+colour from the top-left center\r\n",
    "\r\n",
    "import cv2\r\n",
    "import numpy as np\r\n",
    "from imutils.object_detection import non_max_suppression\r\n",
    "from sklearn.neighbors import KNeighborsClassifier\r\n",
    "import pandas as pd\r\n",
    "template_orange = cv2.imread(r\"G:\\\\My Drive\\\\1. EIT Digital master\\\\Estland\\\\Semester 1\\\\Machine vision\\\\MV2021\\\\Homework 2\\\\Python OpenCV2\\\\Images\\\\Calibration\\\\orange_temp.png\")\r\n",
    "template_yellow = cv2.imread(r\"G:\\\\My Drive\\\\1. EIT Digital master\\\\Estland\\\\Semester 1\\\\Machine vision\\\\MV2021\\\\Homework 2\\\\Python OpenCV2\\\\Images\\\\Calibration\\\\yellow_temp.png\")\r\n",
    "template_blue = cv2.imread(r\"G:\\\\My Drive\\\\1. EIT Digital master\\\\Estland\\\\Semester 1\\\\Machine vision\\\\MV2021\\\\Homework 2\\\\Python OpenCV2\\\\Images\\\\Calibration\\\\blue_template.png\")\r\n",
    "template_empty = cv2.imread(r\"G:\\\\My Drive\\\\1. EIT Digital master\\\\Estland\\\\Semester 1\\\\Machine vision\\\\MV2021\\\\Homework 2\\\\Python OpenCV2\\\\Images\\\\Calibration\\\\empty-temp.png\")\r\n",
    "img = cv2.imread(r\"G:\\\\My Drive\\\\1. EIT Digital master\\\\Estland\\\\Semester 1\\\\Machine vision\\\\MV2021\\\\Homework 2\\\\Python OpenCV2\\\\Images\\\\Calibration\\\\checker_board6.png\")\r\n",
    "\r\n",
    "templates=[template_orange, template_yellow, template_blue, template_empty]\r\n",
    "colours = [[0,165,255],\r\n",
    "           [15,253,250],\r\n",
    "           [255,0,0],\r\n",
    "           [0,0,0]]\r\n",
    "\r\n",
    "#template = cv2.cvtColor(template, cv2.COLOR_BGR2RGB)\r\n",
    "(tH, tW) = templates[2].shape[:2]\r\n",
    "\r\n",
    "probThreshold = 0.6\r\n",
    "\r\n",
    "i = 0\r\n",
    "points = []\r\n",
    "mean_pills_xy = np.array([ \r\n",
    "                [146, 156, 0],#origin\r\n",
    "                [266, 150, 1], \r\n",
    "                [386, 149, 2], #row 1, col 1\r\n",
    "                [503, 147, 3], #row 1, col 2\r\n",
    "                [151, 268, 4],\r\n",
    "                [274, 264, 5],\r\n",
    "                [390, 261, 6],\r\n",
    "                [507, 257, 7],\r\n",
    "                [157, 383, 8],\r\n",
    "                [276, 375, 9],\r\n",
    "                [395, 372, 10],\r\n",
    "                [514, 366, 11]\r\n",
    "                ])\r\n",
    "\r\n",
    "for template in templates:\r\n",
    "    bound_colour = colours[i]\r\n",
    "    i += 1\r\n",
    "    result = cv2.matchTemplate(img, template, cv2.TM_CCOEFF_NORMED)\r\n",
    "    (yCoords, xCoords) = np.where(result >= probThreshold)\r\n",
    "    clone = img.copy()\r\n",
    "\r\n",
    "    # initialize our list of rectangles\r\n",
    "    rects = []\r\n",
    "    # loop over the starting (x, y)-coordinates again\r\n",
    "    for (x, y) in zip(xCoords, yCoords):\r\n",
    "        # update our list of rectangles\r\n",
    "        rects.append((x, y, x + tW, y + tH))\r\n",
    "    # apply non-maxima suppression to the rectangles\r\n",
    "    pick = non_max_suppression(np.array(rects))\r\n",
    "\r\n",
    "\r\n",
    "    # loop over the final bounding boxes\r\n",
    "    for (startX, startY, endX, endY) in pick:\r\n",
    "        # draw the bounding box on the image\r\n",
    "        cv2.rectangle(img, (startX, startY), (endX, endY),\r\n",
    "            bound_colour, 3)\r\n",
    "        points.append((startX, startY, endX, endY, bound_colour))\r\n",
    "\r\n",
    "    # Computing distances between points\r\n",
    "# Origin [266, 150] (real), #origin\r\n",
    "origin = min(points) \r\n",
    "x_0 = round( origin[0] + (origin[2] - origin[0])/2 )\r\n",
    "y_0 = round( origin[1] + (origin[3] - origin[1])/2 )\r\n",
    "origin_colour = origin[4]\r\n",
    "\r\n",
    "center_rectangles_x = np.zeros(len(points))\r\n",
    "center_rectangles_y = np.zeros(len(points))\r\n",
    "\r\n",
    "\r\n",
    "for i in range(12):\r\n",
    "    center_rectangles_x[i] = round( points[i][0] + (points[i][2] - points[i][0])/2 )\r\n",
    "    center_rectangles_y[i] = round( points[i][1] + (points[i][3] - points[i][1])/2 )\r\n",
    "center_rectangles = np.array([center_rectangles_x, center_rectangles_y])\r\n",
    "\r\n",
    "\r\n",
    "# Finding the nearest mean to stick to\r\n",
    "neigh = KNeighborsClassifier(n_neighbors=1)\r\n",
    "neigh.fit(mean_pills_xy[:,0:2], mean_pills_xy[:,2])\r\n",
    "\r\n",
    "colors = np.zeros((12,3))\r\n",
    "\r\n",
    "for i in range(12):\r\n",
    "    idx = neigh.predict(center_rectangles[:,i].reshape(1,-1))\r\n",
    "    colors[idx[0]] = points[i][4]\r\n",
    "\r\n",
    "\r\n",
    "mean_pills_xy = np.c_[mean_pills_xy, colors]\r\n",
    "\r\n",
    "distx = np.zeros(len(points))\r\n",
    "disty = np.zeros(len(points))\r\n",
    "dist_man_pix = np.zeros(len(points))\r\n",
    "dist_man_mm = np.zeros(len(points))\r\n",
    "\r\n",
    "pix_to_mm = 106/473.31\r\n",
    "\r\n",
    "for i in range(12):\r\n",
    "    distx[i] = mean_pills_xy[i][0] - mean_pills_xy[0][0]\r\n",
    "    disty[i] = mean_pills_xy[i][1] - mean_pills_xy[0][1]\r\n",
    "    dist_man_pix[i] = distx[i] + disty[i]\r\n",
    "    dist_man_mm[i] = round(dist_man_pix[i]*pix_to_mm)\r\n",
    "\r\n",
    "mean_pills_xy = pd.DataFrame(np.c_[mean_pills_xy, dist_man_pix, dist_man_mm])\r\n",
    "mean_pills_xy.columns = ['MeanX', 'MeanY', 'Label', 'ColorR', 'ColorG', 'ColorB', 'Dist2OriginPx', 'Dist2OriginMm']\r\n",
    "\r\n",
    "\r\n",
    "cv2.imshow(\"Output\", img)\r\n",
    "cv2.imwrite(\"G:\\\\My Drive\\\\1. EIT Digital master\\\\Estland\\\\Semester 1\\\\Machine vision\\\\MV2021\\\\Homework 2\\\\Python OpenCV2\\\\Images\\\\Calibration\\\\pills_boundbox_calib2.png\", img)\r\n",
    "print('points:\\n')\r\n",
    "print(points)\r\n",
    "print()\r\n",
    "\r\n",
    "cv2.waitKey(0)"
   ],
   "outputs": [
    {
     "output_type": "stream",
     "name": "stdout",
     "text": [
      "points:\n",
      "\n",
      "[(111, 343, 203, 433, [0, 165, 255]), (230, 337, 322, 427, [0, 165, 255]), (349, 331, 441, 421, [0, 165, 255]), (467, 322, 559, 412, [0, 165, 255]), (106, 233, 198, 323, [0, 165, 255]), (344, 224, 436, 314, [0, 165, 255]), (463, 217, 555, 307, [0, 165, 255]), (218, 116, 310, 206, [0, 165, 255]), (225, 224, 317, 314, [15, 253, 250]), (456, 101, 548, 191, [15, 253, 250]), (336, 104, 428, 194, [255, 0, 0]), (93, 120, 185, 210, [0, 0, 0])]\n",
      "\n"
     ]
    },
    {
     "output_type": "execute_result",
     "data": {
      "text/plain": [
       "-1"
      ]
     },
     "metadata": {},
     "execution_count": 172
    }
   ],
   "metadata": {}
  },
  {
   "cell_type": "code",
   "execution_count": 145,
   "source": [
    "print(mean_pills_xy)\r\n",
    "colors = np.zeros((12,3))\r\n",
    "\r\n",
    "for i in range(12):\r\n",
    "    idx = neigh.predict(center_rectangles[:,i].reshape(1,-1))\r\n",
    "    colors[i] = points[idx[0]][4]\r\n",
    "\r\n",
    "\r\n",
    "mean_pills_xy = np.c_[mean_pills_xy, colors]"
   ],
   "outputs": [
    {
     "output_type": "stream",
     "name": "stdout",
     "text": [
      "[[146 156   0]\n",
      " [266 150   1]\n",
      " [386 149   2]\n",
      " [503 147   3]\n",
      " [151 268   4]\n",
      " [274 264   5]\n",
      " [390 261   6]\n",
      " [507 257   7]\n",
      " [157 383   8]\n",
      " [276 375   9]\n",
      " [395 372  10]\n",
      " [514 366  11]]\n"
     ]
    }
   ],
   "metadata": {}
  },
  {
   "cell_type": "code",
   "execution_count": 156,
   "source": [
    "idx = neigh.predict(center_rectangles[:,0].reshape(1,-1))\r\n",
    "print(idx)\r\n",
    "\r\n",
    "print(center_rectangles[:,0])"
   ],
   "outputs": [
    {
     "output_type": "stream",
     "name": "stdout",
     "text": [
      "[8]\n",
      "[157. 388.]\n"
     ]
    }
   ],
   "metadata": {}
  },
  {
   "cell_type": "code",
   "execution_count": 157,
   "source": [],
   "outputs": [
    {
     "output_type": "stream",
     "name": "stdout",
     "text": [
      "[(111, 343, 203, 433, [0, 165, 255]), (230, 337, 322, 427, [0, 165, 255]), (349, 331, 441, 421, [0, 165, 255]), (467, 322, 559, 412, [0, 165, 255]), (106, 233, 198, 323, [0, 165, 255]), (344, 224, 436, 314, [0, 165, 255]), (463, 217, 555, 307, [0, 165, 255]), (218, 116, 310, 206, [0, 165, 255]), (225, 224, 317, 314, [15, 253, 250]), (456, 101, 548, 191, [15, 253, 250]), (336, 104, 428, 194, [255, 0, 0]), (93, 120, 185, 210, [0, 0, 0])]\n"
     ]
    }
   ],
   "metadata": {}
  }
 ],
 "metadata": {
  "orig_nbformat": 4,
  "language_info": {
   "name": "python",
   "version": "3.9.7",
   "mimetype": "text/x-python",
   "codemirror_mode": {
    "name": "ipython",
    "version": 3
   },
   "pygments_lexer": "ipython3",
   "nbconvert_exporter": "python",
   "file_extension": ".py"
  },
  "kernelspec": {
   "name": "python3",
   "display_name": "Python 3.9.7 64-bit"
  },
  "interpreter": {
   "hash": "d2f780d3fa0f233da220727534c26375caac5692cb408a3c2164f85e81e52cd5"
  }
 },
 "nbformat": 4,
 "nbformat_minor": 2
}