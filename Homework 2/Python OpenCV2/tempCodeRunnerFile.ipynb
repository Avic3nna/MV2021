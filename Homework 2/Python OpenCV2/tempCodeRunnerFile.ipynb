import numpy as np
import cv2
from glob import glob
# termination criteria
criteria = (cv2.TERM_CRITERIA_EPS + cv2.TERM_CRITERIA_MAX_ITER, 30, 0.001)
# prepare object points, like (0,0,0), (1,0,0), (2,0,0) ....,(6,5,0)
objp = np.zeros((10*7,3), np.float32) #checkerboard 10*7 squares
objp[:,:2] = np.mgrid[0:7,0:10].T.reshape(-1,2)
# Arrays to store object points and image points from all the images.
objpoints = [] # 3d point in real world space
imgpoints = [] # 2d points in image plane.
images = glob('G:\\My Drive\\1. EIT Digital master\\Estland\\Semester 1\\Machine vision\\MV2021\\Homework 2\\Python OpenCV2\\Images\\Calibration\\*.png')

img = cv2.imread(images[0])
cv2.imshow('tada', img)
cv2.waitKey(20)